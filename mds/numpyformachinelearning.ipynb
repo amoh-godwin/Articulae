{
 "cells": [
  {
   "cell_type": "markdown",
   "metadata": {},
   "source": [
    "# Numpy For Machine Learning"
   ]
  },
  {
   "cell_type": "markdown",
   "metadata": {},
   "source": [
    "Numpy computations are about 5 to 100 times faster than similar calculations. Because they are implemented in C. For this reason, scipy, pandas, matplotlib and scikit-learn are all built on top of it. Thus knowing Numpy is a neccessity."
   ]
  },
  {
   "cell_type": "markdown",
   "metadata": {},
   "source": [
    "In this lesson we will be learning just about enogh numpy to get you started on your study of machine learning or if you want to brush up your knowledge of Numpy."
   ]
  }
 ],
 "metadata": {
  "kernelspec": {
   "display_name": "Python 3.9.12 ('base')",
   "language": "python",
   "name": "python3"
  },
  "language_info": {
   "name": "python",
   "version": "3.9.12"
  },
  "orig_nbformat": 4,
  "vscode": {
   "interpreter": {
    "hash": "27c3143c2c6395e2b370279f8d68d5530543927f023a3d4255b49ab0381dc566"
   }
  }
 },
 "nbformat": 4,
 "nbformat_minor": 2
}
